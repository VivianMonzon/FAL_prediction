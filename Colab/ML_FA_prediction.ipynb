{
  "nbformat": 4,
  "nbformat_minor": 0,
  "metadata": {
    "kernelspec": {
      "display_name": "Python 3",
      "language": "python",
      "name": "python3"
    },
    "language_info": {
      "codemirror_mode": {
        "name": "ipython",
        "version": 3
      },
      "file_extension": ".py",
      "mimetype": "text/x-python",
      "name": "python",
      "nbconvert_exporter": "python",
      "pygments_lexer": "ipython3",
      "version": "3.7.3"
    },
    "colab": {
      "name": "ML_FA_prediction.ipynb",
      "provenance": [],
      "include_colab_link": true
    }
  },
  "cells": [
    {
      "cell_type": "markdown",
      "metadata": {
        "id": "view-in-github",
        "colab_type": "text"
      },
      "source": [
        "<a href=\"https://colab.research.google.com/github/VivianMonzon/FAL_prediction/blob/main/Colab/ML_FA_prediction.ipynb\" target=\"_parent\"><img src=\"https://colab.research.google.com/assets/colab-badge.svg\" alt=\"Open In Colab\"/></a>"
      ]
    },
    {
      "cell_type": "code",
      "metadata": {
        "id": "JdE-2fUv392q",
        "cellView": "form"
      },
      "source": [
        "#@title Install dependencies/clone repo\n",
        "!pip install biopython &> /dev/null\n",
        "!git clone https://github.com/VivianMonzon/FAL_prediction --quiet"
      ],
      "execution_count": null,
      "outputs": []
    },
    {
      "cell_type": "code",
      "metadata": {
        "id": "euhlJBig40GJ",
        "cellView": "form"
      },
      "source": [
        "#@title Installing miniconda\n",
        "%%bash\n",
        "MINICONDA_INSTALLER_SCRIPT=Miniconda3-py37_4.10.3-Linux-x86_64.sh\n",
        "MINICONDA_PREFIX=/usr/local\n",
        "wget https://repo.continuum.io/miniconda/$MINICONDA_INSTALLER_SCRIPT &> /dev/null\n",
        "chmod +x $MINICONDA_INSTALLER_SCRIPT\n",
        "./$MINICONDA_INSTALLER_SCRIPT -b -f -p $MINICONDA_PREFIX &> /dev/null"
      ],
      "execution_count": null,
      "outputs": []
    },
    {
      "cell_type": "code",
      "metadata": {
        "id": "aT3CXwp244mo",
        "cellView": "code"
      },
      "source": [
        "#@title Install hmmer and muscle\n",
        "!conda install --channel defaults conda python=3.7 --yes &> /dev/null\n",
        "!conda update --channel defaults --all --yes &> /dev/null\n",
        "\n",
        "import sys\n",
        "_ = (sys.path\n",
        "        .append(\"/usr/local/lib/python3.7/site-packages\"))\n",
        "!conda install -c bioconda hmmer --yes &> /dev/null\n",
        "!wget https://www.drive5.com/muscle/downloads3.8.31/muscle3.8.31_i86linux64.tar.gz &> /dev/null\n",
        "!tar -zxvf muscle3.8.31_i86linux64.tar.gz &> /dev/null"
      ],
      "execution_count": null,
      "outputs": []
    },
    {
      "cell_type": "code",
      "metadata": {
        "id": "35S55Uas30rj",
        "cellView": "form"
      },
      "source": [
        "#@title Input protein sequence or sequence fasta file name (+path if not in current directory), then hit `Runtime` -> `Run all`\n",
        "\n",
        "query_sequence = 'MFFKRQKGQYHEVERVTRFKLIKSGKHWLRAATSQFGLLRLMKGADISSVEVKVAEEQSV EKGGLNYLKGIIATGAVLGGAVVTSSSVYAEEEQALEKVIDTRDVLATRGEAVLSEEAAT TLSSEGANPVESLSDTLSASESASANSVSTSISISESFSVSASASLSSSSSLSQSSSESA SASESLSVSASTSQSFSSTTSSTQSSNNESLISSDSSNSLNTNQSVSARNQNARVRTRRA VAANDTEAPQVKSGDYVVYRGESFEYYAEITDNSGQVNRVVIRNVEGGANSTYLSPNWVK YSTENLGRPGNATVQNPLRTRIFGEVPLNEIVNEKSYYTRYIVAWDPSGNATQMVDNANR NGLERFVLTVKSQNEKYDPADPSVTYVNNLSNLSTSEREAVAAAVRAANPNIPPTAKITV SQNGTVTITYPDKSTDTIPANRVVKDLQISKSNSASQSSSVSASQSASTSVSASISASMS ASVSVSTSASTSASVSASESASTSASVSASESASTSASVSASKSSSTSASVSASESASTS ASVSASESASTSASVSASESASTSASVSASTSASTSASVSASESASTSASVSASESASTS ASVSASESASTSASVSASESASTSASVSASESSSTSASVSASESASTSASVSASESASTS ASVSASTSASTSASVSASTSASTSASVSASTSASTSASVSASESASTSASVSASESASTS ASVSASTSASTSASVSASTSASTSASVSASESASTSASVSASTSASTSASVSASESASTS ASVSASTSASTSASVSASESASTSASVSASESASTSASVSASTSASTSASVSASESASTS ASVSASESASTSASVSASESASTSASVSASTSASTSASVSASESASTSASVSASESASTS ASVSASESASTSASVSASESASTSASVSASTSASTSASVSASESASTSASVSASESASTS ASVSASESASTSASVSASESASTSASISASESASTSASVSASESASTSASVSASTSASTS ASVSASESASTSASVSASESASTSASVSASESASTSASVSASESASTSASVSASESASTS ASVSASTSASTSASVSASESSSTSASVSASESASTSSSVSASESASTSASVSASESASTS ASVSASESASTSASVSASESASTSASVSASESASTSASVSASESASTSASVSASESASTS ASVSASTSASTSASVSASESASTSASVSASESASTSASVSASTSASTSASVSASESASTS ASVSASESASTSASVSASESASTSASVSASTSASTSASVSASESASTSASVSASESASMS ASVSASESASTSASVSASESASTSASVSASESASTSASVSASESASTSASVSASESASTS ASVSASESASTSASVSASESAYTSASASASESASTSASISASESASTSASVSASESAYTS ASVSASESGSTSASVSASESASTSASVSASESASTSASVSASTSASTSASVSASESSSTS ASVSASESASTSASVSASESASTSASVSASTSASTSASVSASESASTSASVSASESASTS ASVSASESASTSASVSTSESASTSASVSASESASTSASVSASESASTSASVSASESSSTS ASVSASESASTSASVSASESASTSASVSASESASTSASVSASESASTSVSVSASESASTS ASVSASESASSSASVSASKSASMSASVLASESASTSASVSASESASTSASVSASESASTS ASVSASESASTSASVSASESASTSASVSASESASTSASVSASESASTSASVSASTSASTS ASVSASESASTSASVSASESASTSASVSASESASTSASVSASESVSANESASTSASVSAS TSASTSASVSSSESASTSASVSASESASTSASVSASESASTSASVSASESASISASISASESSSTSASVSASESASTSASVSASTSTSTSASVSASESASTSASVFASESASTSASVSASESASTSASVSASTSASTSASVSASESASTSASISASESASTSASISASESSSTSASVSASTSASTSASVSASESTSTSVSISASESVSISTSVSQSMSVSESLSLSVSTSTLHSQLNGIYESELNSLSLSESLSMSQSLSQSLSDSQSTSATQSMHDRISKGQLPRTGESESKASILALGIGALGLAFKKRKKNESED' #@param {type:\"string\"}\n",
        "sequence_file = '' #@param {type:\"string\"}"
      ],
      "execution_count": null,
      "outputs": []
    },
    {
      "cell_type": "code",
      "metadata": {
        "id": "aIABsufsH8pr",
        "colab": {
          "base_uri": "https://localhost:8080/"
        },
        "outputId": "e04c1de4-593d-4457-e908-39ad3053d9ae",
        "cellView": "form"
      },
      "source": [
        "#@title Check sequence/sequence file & create folders (& seq file)\n",
        "from Bio import SeqIO\n",
        "from FAL_prediction.Colab import feature\n",
        "\n",
        "def check_fasta_file(filename):\n",
        "  with open(filename, \"r\") as handle:\n",
        "        fasta = SeqIO.parse(handle, \"fasta\")\n",
        "        return any(fasta)\n",
        "\n",
        "if query_sequence:\n",
        "  if not sequence_file:\n",
        "    query_sequence = query_sequence.replace(\" \", \"\")\n",
        "    feature.query_seq_to_file(query_sequence)\n",
        "    fh_fasta = 'query_seq.fa'\n",
        "    print('Sequence file from query seq. created')\n",
        "  else:\n",
        "    raise ValueError('Please use either query sequence or give a sequence file name!')\n",
        "if sequence_file:\n",
        "  if not query_sequence:\n",
        "    if check_fasta_file(sequence_file) is True:\n",
        "      print('Sequence file is {}'.format(sequence_file))\n",
        "      fh_fasta = sequence_file\n",
        "    if check_fasta_file(sequence_file) is False:\n",
        "      print('Please check the fasta file')\n",
        "  else:\n",
        "    raise ValueError('Please use either query sequence or give a sequence file name!')\n",
        "\n",
        "feature.create_folder('analysis', 'results')"
      ],
      "execution_count": null,
      "outputs": [
        {
          "output_type": "stream",
          "name": "stdout",
          "text": [
            "Sequence file from query seq. created\n",
            "analysis folder created\n",
            "results folder created\n"
          ]
        }
      ]
    },
    {
      "cell_type": "code",
      "metadata": {
        "id": "tyMaVt95NZ54",
        "colab": {
          "base_uri": "https://localhost:8080/"
        },
        "outputId": "2a761016-8f1d-48a9-97db-a86127695a0e",
        "cellView": "form"
      },
      "source": [
        "#@title Run hmmersearch \n",
        "!hmmsearch --cut_ga --domtblout analysis/input_seq_adh_dom.tbl FAL_prediction/database/adh_dom_hmms.hmm $fh_fasta > analysis/input_seq_adh_dom.out\n",
        "!hmmsearch --cut_ga --domtblout analysis/input_seq_stalk_dom.tbl FAL_prediction/database/stalk_dom_hmms.hmm $fh_fasta > analysis/input_seq_stalk_dom.out\n",
        "!hmmsearch --cut_ga --domtblout analysis/input_seq_anchor_dom.tbl FAL_prediction/database/anchor_dom_hmms.hmm $fh_fasta > analysis/input_seq_anchor_dom.out"
      ],
      "execution_count": null,
      "outputs": [
        {
          "output_type": "stream",
          "name": "stdout",
          "text": [
            "\n",
            "Error: GA bit thresholds unavailable on model GspA_SrpA_N\n",
            "\n"
          ]
        }
      ]
    },
    {
      "cell_type": "code",
      "metadata": {
        "id": "Ja8hS-BEB4AC",
        "cellView": "form"
      },
      "source": [
        "#@title Run IUPRED\n",
        "!python3.7 FAL_prediction/Colab/scripts/iupred2a.py $fh_fasta \"long\" > analysis/input_seq_iupred.tab"
      ],
      "execution_count": null,
      "outputs": []
    },
    {
      "cell_type": "code",
      "metadata": {
        "id": "uTRiZUqUjlkJ",
        "cellView": "form"
      },
      "source": [
        "#@title Run T-REKS\n",
        "!java -Xmx4G -jar FAL_prediction/Colab/scripts/T-ReksHPC.jar -f $fh_fasta -t analysis/input_seq_treks.tsv -a analysis/input_seq_treks.aln -m /content/muscle3.8.31_i86linux64 -s 0.7 -S 5 -L 50 > analysis/input_seq_treks.log"
      ],
      "execution_count": null,
      "outputs": []
    },
    {
      "cell_type": "code",
      "metadata": {
        "id": "l6TMQICYjzdx",
        "cellView": "form"
      },
      "source": [
        "#@title Collect features\n",
        "from Bio.SeqIO.FastaIO import SimpleFastaParser\n",
        "import pandas as pd\n",
        "feature.collect_features.adapt_hmmsearch('analysis/input_seq_adh_dom.tbl', 'analysis/input_seq_adh_dom_adapt.tbl')\n",
        "feature.collect_features.adapt_hmmsearch('analysis/input_seq_stalk_dom.tbl', 'analysis/input_seq_stalk_dom_adapt.tbl')\n",
        "feature.collect_features.adapt_hmmsearch('analysis/input_seq_anchor_dom.tbl', 'analysis/input_seq_anchor_dom_adapt.tbl')\n",
        "df_combined = pd.DataFrame(columns=['ID', 'length', 'Hydro_portion', 'Charge_portion', \n",
        "                                    'rel_entropy', 'R', 'H', 'K', 'D', 'E', 'S', 'T', \n",
        "                                    'N', 'Q', 'C', 'G', 'P', 'A', 'V', 'I', 'L', 'M', \n",
        "                                    'F', 'Y', 'W'])\n",
        "fh_seq_file = open(fh_fasta)\n",
        "for name, seq in SimpleFastaParser(fh_seq_file):\n",
        "  if '|' in name:\n",
        "    name = name.split('|')[1].split('|')[0]\n",
        "  if ' ' in name:\n",
        "    name = name.split(' ')[0]\n",
        "  if '.' in name:\n",
        "    name = name.split('.')[0]\n",
        "  df_hydro_charge = feature.collect_features.hydro_charge(name, seq)\n",
        "  df_aa_comp = feature.collect_features.aa_comp(name, seq)\n",
        "  df_len = pd.DataFrame({'ID': [name], 'length': [len(seq)]})\n",
        "  df_merged = df_len.merge(df_hydro_charge, how='left').merge(df_aa_comp, how='left')\n",
        "  df_combined = df_combined.append(df_merged)\n",
        "fh_seq_file.close()\n",
        "df_iupred = feature.collect_features.adapt_iupred('analysis/input_seq_iupred.tab')\n",
        "df_treks = feature.collect_features.treks('analysis/input_seq_treks.tsv')\n",
        "df_anchor = feature.collect_features.anchor_search(fh_fasta, 'analysis/input_seq_anchor_dom_adapt.tbl')\n",
        "df_adh = feature.collect_features.any_adh('analysis/input_seq_adh_dom_adapt.tbl')\n",
        "df_stalk = feature.collect_features.number_stalk('analysis/input_seq_stalk_dom_adapt.tbl')\n",
        "df_input_seq = df_combined.merge(df_iupred, how='left').merge(df_treks, how='left').merge(\n",
        "    df_anchor, how='left').merge(df_adh, how='left').merge(df_stalk, how='left').fillna(0)\n",
        "df_input_seq = df_input_seq[['ID', 'length', 'treks_07', 'Any_anchor', 'Stalks', 'Any_adh', \n",
        "                             'frac_disordered', 'Hydro_portion', 'Charge_portion', 'rel_entropy', 'R', 'H', \n",
        "                             'K', 'D', 'E', 'S', 'T', 'N', 'Q', 'C', 'G', 'P', 'A', 'V', 'I', 'L', 'M', 'F', 'Y', 'W']]\n",
        "\n",
        "df_input_seq.to_csv('results/input_seq_feature.csv', index=False)"
      ],
      "execution_count": null,
      "outputs": []
    },
    {
      "cell_type": "code",
      "metadata": {
        "id": "9xS23Ss_JHQt",
        "colab": {
          "base_uri": "https://localhost:8080/"
        },
        "outputId": "aa3317a1-99ca-45b4-f9af-40680f7e2d00",
        "cellView": "form"
      },
      "source": [
        "#@title RF prediction\n",
        "from FAL_prediction.Colab import RF_prediction\n",
        "RF_prediction.ML_prediction.run_random_forest('results/input_seq_feature.csv', \n",
        "                                              'FAL_prediction/database/training_data.csv', \n",
        "                                              'results', 'input_seq_results')\n",
        "print('Your results are saved under results/input_seq_results.tsv')"
      ],
      "execution_count": null,
      "outputs": [
        {
          "output_type": "stream",
          "name": "stdout",
          "text": [
            "Your results are saved under results/input_seq_results.tsv\n"
          ]
        }
      ]
    },
    {
      "cell_type": "code",
      "source": [
        "#@title Head of resuls file:\n",
        "!head results/input_seq_results.tsv"
      ],
      "metadata": {
        "id": "VOWHA49ZbR7Y",
        "outputId": "0b2696dc-558c-4026-8774-c9f435f3411f",
        "colab": {
          "base_uri": "https://localhost:8080/"
        },
        "cellView": "form"
      },
      "execution_count": null,
      "outputs": [
        {
          "output_type": "stream",
          "name": "stdout",
          "text": [
            "ID\tPrediction\tPrediction_score\tlength\tHydro_portion\tCharge_portion\trel_entropy\tR\tH\tK\tD\tE\tS\tT\tN\tQ\tC\tG\tP\tA\tV\tI\tL\tM\tF\tY\tW\n",
            "query_sequence\t1\t0.82\t2178\t0.33\t0.1\t1.58\t1.24\t0.18\t1.24\t0.83\t6.8\t42.33\t8.95\t1.74\t1.19\t0.0\t1.38\t0.69\t19.93\t8.17\t1.42\t2.02\t0.41\t0.51\t0.83\t0.14\n"
          ]
        }
      ]
    },
    {
      "cell_type": "code",
      "source": [
        ""
      ],
      "metadata": {
        "id": "SmHpLCtibUJR"
      },
      "execution_count": null,
      "outputs": []
    }
  ]
}