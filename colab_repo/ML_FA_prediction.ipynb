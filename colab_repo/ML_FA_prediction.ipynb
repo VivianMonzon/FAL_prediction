{
 "cells": [
  {
   "cell_type": "code",
   "execution_count": 2,
   "metadata": {},
   "outputs": [
    {
     "name": "stdout",
     "output_type": "stream",
     "text": [
      "usage: ML_predict.py [-h] {collect_feature,ML_prediction} ...\r\n",
      "\r\n",
      "positional arguments:\r\n",
      "  {collect_feature,ML_prediction}\r\n",
      "                        commands\r\n",
      "    collect_feature     run analysis for fasta seqs to get feature\r\n",
      "    ML_prediction       ML prediction for FAL proteins\r\n",
      "\r\n",
      "optional arguments:\r\n",
      "  -h, --help            show this help message and exit\r\n"
     ]
    }
   ],
   "source": [
    "!python3.7 ML_predict.py"
   ]
  },
  {
   "cell_type": "code",
   "execution_count": 5,
   "metadata": {},
   "outputs": [
    {
     "name": "stdout",
     "output_type": "stream",
     "text": [
      "analysis folder exists\n",
      "results folder exists\n"
     ]
    }
   ],
   "source": [
    "\n",
    "%run ML_predict.py collect_feature --fasta_seqs 'LPAGLPLP'"
   ]
  },
  {
   "cell_type": "code",
   "execution_count": 6,
   "metadata": {},
   "outputs": [],
   "source": [
    "#@title Input protein sequence, then hit `Runtime` -> `Run all`"
   ]
  },
  {
   "cell_type": "code",
   "execution_count": null,
   "metadata": {},
   "outputs": [],
   "source": []
  }
 ],
 "metadata": {
  "kernelspec": {
   "display_name": "Python 3",
   "language": "python",
   "name": "python3"
  },
  "language_info": {
   "codemirror_mode": {
    "name": "ipython",
    "version": 3
   },
   "file_extension": ".py",
   "mimetype": "text/x-python",
   "name": "python",
   "nbconvert_exporter": "python",
   "pygments_lexer": "ipython3",
   "version": "3.7.3"
  }
 },
 "nbformat": 4,
 "nbformat_minor": 2
}
