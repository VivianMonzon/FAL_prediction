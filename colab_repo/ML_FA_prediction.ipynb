{
  "nbformat": 4,
  "nbformat_minor": 0,
  "metadata": {
    "kernelspec": {
      "display_name": "Python 3",
      "language": "python",
      "name": "python3"
    },
    "language_info": {
      "codemirror_mode": {
        "name": "ipython",
        "version": 3
      },
      "file_extension": ".py",
      "mimetype": "text/x-python",
      "name": "python",
      "nbconvert_exporter": "python",
      "pygments_lexer": "ipython3",
      "version": "3.7.3"
    },
    "colab": {
      "name": "ML_FA_prediction.ipynb",
      "provenance": [],
      "include_colab_link": true
    }
  },
  "cells": [
    {
      "cell_type": "markdown",
      "metadata": {
        "id": "view-in-github",
        "colab_type": "text"
      },
      "source": [
        "<a href=\"https://colab.research.google.com/github/VivianMonzon/FAL_prediction/blob/main/colab_repo/ML_FA_prediction.ipynb\" target=\"_parent\"><img src=\"https://colab.research.google.com/assets/colab-badge.svg\" alt=\"Open In Colab\"/></a>"
      ]
    },
    {
      "cell_type": "code",
      "metadata": {
        "id": "JdE-2fUv392q",
        "cellView": "form"
      },
      "source": [
        "#@title Install dependencies/clone repo\n",
        "!pip install biopython &> /dev/null\n",
        "!git clone https://github.com/VivianMonzon/FAL_prediction --quiet"
      ],
      "execution_count": null,
      "outputs": []
    },
    {
      "cell_type": "code",
      "metadata": {
        "id": "euhlJBig40GJ",
        "cellView": "form"
      },
      "source": [
        "#@title Installing miniconda\n",
        "%%bash\n",
        "MINICONDA_INSTALLER_SCRIPT=Miniconda3-py37_4.10.3-Linux-x86_64.sh\n",
        "MINICONDA_PREFIX=/usr/local\n",
        "wget https://repo.continuum.io/miniconda/$MINICONDA_INSTALLER_SCRIPT &> /dev/null\n",
        "chmod +x $MINICONDA_INSTALLER_SCRIPT\n",
        "./$MINICONDA_INSTALLER_SCRIPT -b -f -p $MINICONDA_PREFIX &> /dev/null"
      ],
      "execution_count": null,
      "outputs": []
    },
    {
      "cell_type": "code",
      "metadata": {
        "id": "aT3CXwp244mo",
        "cellView": "form"
      },
      "source": [
        "#@title Install hmmer and muscle\n",
        "!conda install --channel defaults conda python=3.7 --yes &> /dev/null\n",
        "!conda update --channel defaults --all --yes &> /dev/null\n",
        "\n",
        "import sys\n",
        "_ = (sys.path\n",
        "        .append(\"/usr/local/lib/python3.7/site-packages\"))\n",
        "!conda install -c bioconda hmmer --yes &> /dev/null\n",
        "!wget https://www.drive5.com/muscle/downloads3.8.31/muscle3.8.31_i86linux64.tar.gz &> /dev/null\n",
        "!tar -zxvf muscle3.8.31_i86linux64.tar.gz &> /dev/null"
      ],
      "execution_count": null,
      "outputs": []
    },
    {
      "cell_type": "code",
      "metadata": {
        "id": "35S55Uas30rj",
        "cellView": "form"
      },
      "source": [
        "#@title Input protein sequence or sequence fasta file name (+path if not in current directory), then hit `Runtime` -> `Run all`\n",
        "\n",
        "query_sequence = 'MFFKRQKGQYHEVERVTRFKLIKSGKHWLRAATSQFGLLRLMKGADISSVEVKVAEEQSV EKGGLNYLKGIIATGAVLGGAVVTSSSVYAEEEQALEKVIDTRDVLATRGEAVLSEEAAT TLSSEGANPVESLSDTLSASESASANSVSTSISISESFSVSASASLSSSSSLSQSSSESA SASESLSVSASTSQSFSSTTSSTQSSNNESLISSDSSNSLNTNQSVSARNQNARVRTRRA VAANDTEAPQVKSGDYVVYRGESFEYYAEITDNSGQVNRVVIRNVEGGANSTYLSPNWVK YSTENLGRPGNATVQNPLRTRIFGEVPLNEIVNEKSYYTRYIVAWDPSGNATQMVDNANR NGLERFVLTVKSQNEKYDPADPSVTYVNNLSNLSTSEREAVAAAVRAANPNIPPTAKITV SQNGTVTITYPDKSTDTIPANRVVKDLQISKSNSASQSSSVSASQSASTSVSASISASMS ASVSVSTSASTSASVSASESASTSASVSASESASTSASVSASKSSSTSASVSASESASTS ASVSASESASTSASVSASESASTSASVSASTSASTSASVSASESASTSASVSASESASTS ASVSASESASTSASVSASESASTSASVSASESSSTSASVSASESASTSASVSASESASTS ASVSASTSASTSASVSASTSASTSASVSASTSASTSASVSASESASTSASVSASESASTS ASVSASTSASTSASVSASTSASTSASVSASESASTSASVSASTSASTSASVSASESASTS ASVSASTSASTSASVSASESASTSASVSASESASTSASVSASTSASTSASVSASESASTS ASVSASESASTSASVSASESASTSASVSASTSASTSASVSASESASTSASVSASESASTS ASVSASESASTSASVSASESASTSASVSASTSASTSASVSASESASTSASVSASESASTS ASVSASESASTSASVSASESASTSASISASESASTSASVSASESASTSASVSASTSASTS ASVSASESASTSASVSASESASTSASVSASESASTSASVSASESASTSASVSASESASTS ASVSASTSASTSASVSASESSSTSASVSASESASTSSSVSASESASTSASVSASESASTS ASVSASESASTSASVSASESASTSASVSASESASTSASVSASESASTSASVSASESASTS ASVSASTSASTSASVSASESASTSASVSASESASTSASVSASTSASTSASVSASESASTS ASVSASESASTSASVSASESASTSASVSASTSASTSASVSASESASTSASVSASESASMS ASVSASESASTSASVSASESASTSASVSASESASTSASVSASESASTSASVSASESASTS ASVSASESASTSASVSASESAYTSASASASESASTSASISASESASTSASVSASESAYTS ASVSASESGSTSASVSASESASTSASVSASESASTSASVSASTSASTSASVSASESSSTS ASVSASESASTSASVSASESASTSASVSASTSASTSASVSASESASTSASVSASESASTS ASVSASESASTSASVSTSESASTSASVSASESASTSASVSASESASTSASVSASESSSTS ASVSASESASTSASVSASESASTSASVSASESASTSASVSASESASTSVSVSASESASTS ASVSASESASSSASVSASKSASMSASVLASESASTSASVSASESASTSASVSASESASTS ASVSASESASTSASVSASESASTSASVSASESASTSASVSASESASTSASVSASTSASTS ASVSASESASTSASVSASESASTSASVSASESASTSASVSASESVSANESASTSASVSAS TSASTSASVSSSESASTSASVSASESASTSASVSASESASTSASVSASESASISASISASESSSTSASVSASESASTSASVSASTSTSTSASVSASESASTSASVFASESASTSASVSASESASTSASVSASTSASTSASVSASESASTSASISASESASTSASISASESSSTSASVSASTSASTSASVSASESTSTSVSISASESVSISTSVSQSMSVSESLSLSVSTSTLHSQLNGIYESELNSLSLSESLSMSQSLSQSLSDSQSTSATQSMHDRISKGQLPRTGESESKASILALGIGALGLAFKKRKKNESED' #@param {type:\"string\"}\n",
        "sequence_file = '' #@param {type:\"string\"}"
      ],
      "execution_count": null,
      "outputs": []
    },
    {
      "cell_type": "code",
      "metadata": {
        "id": "aIABsufsH8pr",
        "cellView": "form"
      },
      "source": [
        "#@title Check sequence/sequence file & create folders (& seq file)\n",
        "from Bio import SeqIO\n",
        "from ML_predict_snakemake_pipeline.colab_repo import feature\n",
        "\n",
        "def check_fasta_file(filename):\n",
        "  with open(filename, \"r\") as handle:\n",
        "        fasta = SeqIO.parse(handle, \"fasta\")\n",
        "        return any(fasta)\n",
        "\n",
        "if query_sequence:\n",
        "  if not sequence_file:\n",
        "    query_sequence = query_sequence.replace(\" \", \"\")\n",
        "    feature.query_seq_to_file(query_sequence)\n",
        "    fh_fasta = 'query_seq.fa'\n",
        "    print('Sequence file from query seq. created')\n",
        "  else:\n",
        "    raise ValueError('Please use either query sequence or give a sequence file name!')\n",
        "if sequence_file:\n",
        "  if not query_sequence:\n",
        "    if check_fasta_file(sequence_file) is True:\n",
        "      print('Sequence file is {}'.format(sequence_file))\n",
        "      fh_fasta = sequence_file\n",
        "    if check_fasta_file(sequence_file) is False:\n",
        "      print('Please check the fasta file')\n",
        "  else:\n",
        "    raise ValueError('Please use either query sequence or give a sequence file name!')\n",
        "\n",
        "if not analysis_name:\n",
        "  analysis_name = 'input_seq'\n",
        "feature.create_folder('analysis', 'results')"
      ],
      "execution_count": null,
      "outputs": []
    },
    {
      "cell_type": "code",
      "metadata": {
        "id": "tyMaVt95NZ54",
        "cellView": "form"
      },
      "source": [
        "#@title Run hmmersearch \n",
        "!hmmsearch --cut_ga --domtblout analysis/input_seq_adh_dom.tbl ML_predict_snakemake_pipeline/colab_repo/data/adh_dom_hmms.hmm $fh_fasta > analysis/input_seq_adh_dom.out\n",
        "!hmmsearch --cut_ga --domtblout analysis/input_seq_stalk_dom.tbl ML_predict_snakemake_pipeline/colab_repo/data/stalk_dom_hmms.hmm $fh_fasta > analysis/input_seq_stalk_dom.out\n",
        "!hmmsearch --cut_ga --domtblout analysis/input_seq_anchor_dom.tbl ML_predict_snakemake_pipeline/colab_repo/data/anchor_dom_hmms.hmm $fh_fasta > analysis/input_seq_anchor_dom.out"
      ],
      "execution_count": null,
      "outputs": []
    },
    {
      "cell_type": "code",
      "metadata": {
        "id": "bI2tpQl02W0s",
        "cellView": "form"
      },
      "source": [
        "#@title Create inmembrane environment\n",
        "%%bash\n",
        "conda create -n inmembrane_env -c bioconda python=2 hmmer=3.1b2 pip &> /dev/null"
      ],
      "execution_count": null,
      "outputs": []
    },
    {
      "cell_type": "code",
      "metadata": {
        "id": "46lSK6OSBUJZ",
        "cellView": "form"
      },
      "source": [
        "#@title Run Inmembrane\n",
        "%%bash -s $fh_fasta\n",
        "FH_FASTA=$1\n",
        "\n",
        "source activate inmembrane_env\n",
        "pip install inmembrane &> /dev/null\n",
        "inmembrane_scan ${FH_FASTA}\n",
        "conda deactivate\n",
        "mv \"${FH_FASTA%%.*}.csv\" analysis/PSE_input_seq.csv\n",
        "rm -r \"${FH_FASTA%%.*}\""
      ],
      "execution_count": null,
      "outputs": []
    },
    {
      "cell_type": "code",
      "metadata": {
        "id": "Ja8hS-BEB4AC",
        "cellView": "form"
      },
      "source": [
        "#@title Run IUPRED\n",
        "!python3.7 ML_predict_snakemake_pipeline/colab_repo/scripts/iupred2a.py $fh_fasta \"long\" > analysis/input_seq_iupred.tab"
      ],
      "execution_count": null,
      "outputs": []
    },
    {
      "cell_type": "code",
      "metadata": {
        "id": "uTRiZUqUjlkJ",
        "cellView": "form"
      },
      "source": [
        "#@title Run T-REKS\n",
        "!java -Xmx4G -jar ML_predict_snakemake_pipeline/colab_repo/scripts/T-ReksHPC.jar -f $fh_fasta -t analysis/input_seq_treks.tsv -a analysis/input_seq_treks.aln -m /content/muscle3.8.31_i86linux64 -s 0.7 -S 5 -L 50 > analysis/input_seq_treks.log"
      ],
      "execution_count": null,
      "outputs": []
    },
    {
      "cell_type": "code",
      "metadata": {
        "id": "l6TMQICYjzdx",
        "cellView": "form"
      },
      "source": [
        "#@title Collect features\n",
        "from Bio.SeqIO.FastaIO import SimpleFastaParser\n",
        "import pandas as pd\n",
        "feature.collect_features.adapt_hmmsearch('analysis/input_seq_adh_dom.tbl', 'analysis/input_seq_adh_dom_adapt.tbl')\n",
        "feature.collect_features.adapt_hmmsearch('analysis/input_seq_stalk_dom.tbl', 'analysis/input_seq_stalk_dom_adapt.tbl')\n",
        "feature.collect_features.adapt_hmmsearch('analysis/input_seq_anchor_dom.tbl', 'analysis/input_seq_anchor_dom_adapt.tbl')\n",
        "df_combined = pd.DataFrame(columns=['ID', 'length', 'Hydro_portion', 'Charge_portion', \n",
        "                                    'rel_entropy', 'R', 'H', 'K', 'D', 'E', 'S', 'T', \n",
        "                                    'N', 'Q', 'C', 'G', 'P', 'A', 'V', 'I', 'L', 'M', \n",
        "                                    'F', 'Y', 'W'])\n",
        "fh_seq_file = open(fh_fasta)\n",
        "for name, seq in SimpleFastaParser(fh_seq_file):\n",
        "  if '|' in name:\n",
        "    name = name.split('|')[1].split('|')[0]\n",
        "  if ' ' in name:\n",
        "    name = name.split(' ')[0]\n",
        "  if '.' in name:\n",
        "    name = name.split('.')[0]\n",
        "  df_hydro_charge = feature.collect_features.hydro_charge(name, seq)\n",
        "  df_aa_comp = feature.collect_features.aa_comp(name, seq)\n",
        "  df_len = pd.DataFrame({'ID': [name], 'length': [len(seq)]})\n",
        "  df_merged = df_len.merge(df_hydro_charge, how='left').merge(df_aa_comp, how='left')\n",
        "  df_combined = df_combined.append(df_merged)\n",
        "fh_seq_file.close()\n",
        "df_iupred = feature.collect_features.adapt_iupred('analysis/input_seq_iupred.tab')\n",
        "df_treks = feature.collect_features.treks('analysis/input_seq_treks.tsv')\n",
        "df_anchor = feature.collect_features.anchor_search(fh_fasta, 'analysis/input_seq_anchor_dom_adapt.tbl')\n",
        "df_adh = feature.collect_features.any_adh('analysis/input_seq_adh_dom_adapt.tbl')\n",
        "df_stalk = feature.collect_features.number_stalk('analysis/input_seq_stalk_dom_adapt.tbl')\n",
        "df_inmembrane = feature.collect_features.inmembrane('analysis/PSE_input_seq.csv')\n",
        "df_input_seq = df_combined.merge(df_iupred, how='left').merge(df_treks, how='left').merge(\n",
        "    df_anchor, how='left').merge(df_adh, how='left').merge(df_stalk, how='left').merge(\n",
        "        df_inmembrane, how='left').fillna(0)\n",
        "df_input_seq = df_input_seq[['ID', 'length', 'treks_07', 'Any_anchor', 'Stalks', 'Any_adh', 'cellwall', \n",
        "                             'frac_disordered', 'Hydro_portion', 'Charge_portion', 'rel_entropy', 'R', 'H', \n",
        "                             'K', 'D', 'E', 'S', 'T', 'N', 'Q', 'C', 'G', 'P', 'A', 'V', 'I', 'L', 'M', 'F', 'Y', 'W']]\n",
        "\n",
        "df_input_seq.to_csv('results/input_seq_feature.csv', index=False)"
      ],
      "execution_count": null,
      "outputs": []
    },
    {
      "cell_type": "code",
      "metadata": {
        "id": "9xS23Ss_JHQt",
        "cellView": "form"
      },
      "source": [
        "#@title RF prediction\n",
        "from ML_predict_snakemake_pipeline.colab_repo import RF_prediction\n",
        "RF_prediction.ML_prediction.run_random_forest('results/input_seq_feature.csv', \n",
        "                                              'ML_predict_snakemake_pipeline/colab_repo/data/training_data.csv', \n",
        "                                              'results', 'input_seq_results')\n",
        "print('Your results are saved under results/input_seq_results.tsv')"
      ],
      "execution_count": null,
      "outputs": []
    }
  ]
}